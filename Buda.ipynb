{
 "cells": [
  {
   "cell_type": "code",
   "execution_count": 1,
   "metadata": {},
   "outputs": [],
   "source": [
    "from trading_api_wrappers import Buda\n",
    "from datetime import datetime, timezone, timedelta\n",
    "import numpy as np\n",
    "import pandas as pd\n",
    "client = Buda.Public()\n",
    "pd.set_option('display.float_format', '{:.2f}'.format)"
   ]
  },
  {
   "cell_type": "code",
   "execution_count": 2,
   "metadata": {},
   "outputs": [],
   "source": [
    "# DATA NECESARIA\n",
    "marketId = 'btc-clp'\n",
    "firstDate = datetime(2024,3,1,12,0,0,0,timezone.utc)\n",
    "lastDate = datetime(2024,3,1,13,0,0,0,timezone.utc)\n",
    "fee = 0.008"
   ]
  },
  {
   "cell_type": "code",
   "execution_count": 3,
   "metadata": {},
   "outputs": [],
   "source": [
    "def getTimestamp(date):\n",
    "    return int(date.replace(tzinfo=timezone.utc).timestamp()* 1e3) # en milisegundos!\n",
    "\n",
    "def getTransactions(marketId,timestamp,firstTimestamp):\n",
    "    flag = True\n",
    "    transactions = []\n",
    "    while flag:\n",
    "        trades = client.trades(marketId,timestamp=timestamp, limit=50)\n",
    "        entries = list(trades[2])\n",
    "        for entry in entries:\n",
    "            actualTimestamp = entry[0]\n",
    "            if actualTimestamp < firstTimestamp:\n",
    "                flag = False\n",
    "                break;\n",
    "            else:\n",
    "                transactions.append(np.array(entry))\n",
    "                timestamp = actualTimestamp\n",
    "    return transactions\n",
    "\n",
    "def createDataFrame(transactions):\n",
    "    df = pd.DataFrame(transactions, columns=['timestamp', 'amount', 'price', 'type'])\n",
    "    df['value [CLP]'] = df['amount'].astype(float) * df['price'].astype(float)\n",
    "    df['value [CLP]'] = df['value [CLP]'].astype(float)\n",
    "    return df\n",
    "\n",
    "def calculateTotalValueTraded(df):\n",
    "    return round(df['value [CLP]'].sum(),2)\n",
    "\n",
    "def calculateTotalBTCTraded(df):\n",
    "    return df['amount'].astype(float).sum()\n",
    "\n",
    "def calculatePercentageIncrease(initialValue, newValue):\n",
    "    if initialValue == 0:\n",
    "        raise ValueError(\"¡Initial value cannot be zero!\")\n",
    "    percentageIncrease = ((newValue - initialValue) / initialValue) * 100\n",
    "    return round(percentageIncrease,2)\n",
    "\n",
    "def calculateFeeAmount(totalTraded, fee):\n",
    "    return round(totalTraded * fee,2)"
   ]
  },
  {
   "cell_type": "code",
   "execution_count": 4,
   "metadata": {},
   "outputs": [],
   "source": [
    "\n",
    "firstTimestamp = getTimestamp(firstDate)\n",
    "lastTimestamp = getTimestamp(lastDate)\n"
   ]
  },
  {
   "cell_type": "code",
   "execution_count": 5,
   "metadata": {},
   "outputs": [],
   "source": [
    "transactions = getTransactions(marketId,lastTimestamp,firstTimestamp)\n",
    "df = createDataFrame(transactions)"
   ]
  },
  {
   "cell_type": "code",
   "execution_count": 6,
   "metadata": {},
   "outputs": [
    {
     "name": "stdout",
     "output_type": "stream",
     "text": [
      "totalTraded at black buda: 35583121.0\n"
     ]
    }
   ],
   "source": [
    "totalTraded = calculateTotalValueTraded(df)\n",
    "print(\"totalTraded at black buda:\",totalTraded)"
   ]
  },
  {
   "cell_type": "markdown",
   "metadata": {},
   "source": [
    "# Año pasado"
   ]
  },
  {
   "cell_type": "code",
   "execution_count": 7,
   "metadata": {},
   "outputs": [],
   "source": [
    "firstDate2023 = datetime(2023,3,1,12,0,0,0,timezone.utc)\n",
    "lastDate2023 = datetime(2023,3,1,13,0,0,0,timezone.utc)\n",
    "firstTimestamp2023 = getTimestamp(firstDate2023)\n",
    "lastTimestamp2023 = getTimestamp(lastDate2023)\n",
    "\n",
    "transactions2023 = getTransactions(marketId,lastTimestamp2023,firstTimestamp2023)\n",
    "df2023 = createDataFrame(transactions2023)"
   ]
  },
  {
   "cell_type": "code",
   "execution_count": 8,
   "metadata": {},
   "outputs": [
    {
     "name": "stdout",
     "output_type": "stream",
     "text": [
      "totalTraded at black buda 2023: 12872732.47 \n",
      "\n",
      "percentageIncreaseByBTC: -9.35 % \n",
      "\n",
      "moneyLost: 284664.97 \n",
      "\n"
     ]
    }
   ],
   "source": [
    "#Total tradeado en 2023 misma fecha y hora\n",
    "totalTraded2023 = calculateTotalValueTraded(df2023)\n",
    "print(\"totalTraded at black buda 2023:\",totalTraded2023,\"\\n\")\n",
    "\n",
    "#Cuánto creció porcentualmente entre 2023 y 2024? [BTC]\n",
    "totalBTCTraded = calculateTotalBTCTraded(df)\n",
    "totalBTCTraded2023 = calculateTotalBTCTraded(df2023)\n",
    "percentageIncreaseByBTC = calculatePercentageIncrease(totalBTCTraded2023,totalBTCTraded)\n",
    "print(\"percentageIncreaseByBTC:\",percentageIncreaseByBTC,\"%\",\"\\n\")\n",
    "\n",
    "#Cuanto dinero se dejó de ganar por el evento\n",
    "moneyLost = calculateFeeAmount(totalTraded,fee)\n",
    "print(\"moneyLost:\",moneyLost,\"\\n\")"
   ]
  }
 ],
 "metadata": {
  "kernelspec": {
   "display_name": "env",
   "language": "python",
   "name": "python3"
  },
  "language_info": {
   "codemirror_mode": {
    "name": "ipython",
    "version": 3
   },
   "file_extension": ".py",
   "mimetype": "text/x-python",
   "name": "python",
   "nbconvert_exporter": "python",
   "pygments_lexer": "ipython3",
   "version": "3.10.0"
  }
 },
 "nbformat": 4,
 "nbformat_minor": 2
}
