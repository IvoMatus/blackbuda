{
 "cells": [
  {
   "cell_type": "code",
   "execution_count": 1,
   "metadata": {},
   "outputs": [],
   "source": [
    "from trading_api_wrappers import Buda\n",
    "from datetime import datetime, timezone\n",
    "import numpy as np\n",
    "import pandas as pd\n",
    "client = Buda.Public()\n",
    "pd.set_option('display.float_format', '{:.2f}'.format)"
   ]
  },
  {
   "cell_type": "code",
   "execution_count": 2,
   "metadata": {},
   "outputs": [],
   "source": [
    "# DATA NECESARIA\n",
    "marketId = 'btc-clp'\n",
    "firstDate = datetime(2024,3,1,12,0,0,0,timezone.utc)\n",
    "lastDate = datetime(2024,3,1,13,0,0,0,timezone.utc)\n",
    "fee = 0.008"
   ]
  },
  {
   "cell_type": "code",
   "execution_count": 3,
   "metadata": {},
   "outputs": [],
   "source": [
    "def getTimestamp(date):\n",
    "    return int(date.replace(tzinfo=timezone.utc).timestamp()* 1e3) # en milisegundos!\n",
    "\n",
    "def getTransactions(marketId,timestamp,firstTimestamp):\n",
    "    flag = True\n",
    "    transactions = []\n",
    "    while flag:\n",
    "        trades = client.trades(marketId,timestamp=timestamp, limit=50)\n",
    "        entries = list(trades[2])\n",
    "        for entry in entries:\n",
    "            actualTimestamp = entry[0]\n",
    "            if actualTimestamp < firstTimestamp:\n",
    "                flag = False\n",
    "                break;\n",
    "            else:\n",
    "                transactions.append(np.array(entry))\n",
    "                timestamp = actualTimestamp\n",
    "    return transactions\n",
    "\n",
    "def createDataFrame(transactions):\n",
    "    df = pd.DataFrame(transactions, columns=['timestamp', 'amount', 'price', 'type'])\n",
    "    df['value [CLP]'] = df['amount'].astype(float) * df['price'].astype(float)\n",
    "    df['value [CLP]'] = df['value [CLP]'].astype(float)\n",
    "    return df\n",
    "\n",
    "def calculateTotalValueTraded(df):\n",
    "    return round(df['value [CLP]'].sum(),2)\n",
    "\n",
    "def calculateTotalBTCTraded(df):\n",
    "    return df['amount'].astype(float).sum()\n",
    "\n",
    "def calculatePercentageIncrease(initialValue, newValue):\n",
    "    if initialValue == 0:\n",
    "        raise ValueError(\"¡Initial value cannot be zero!\")\n",
    "    percentageIncrease = ((newValue - initialValue) / initialValue) * 100\n",
    "    return round(percentageIncrease,2)\n",
    "\n",
    "def calculateFeeAmount(totalTraded, fee):\n",
    "    return round(totalTraded * fee,2)"
   ]
  },
  {
   "cell_type": "code",
   "execution_count": 4,
   "metadata": {},
   "outputs": [],
   "source": [
    "\n",
    "firstTimestamp = getTimestamp(firstDate)\n",
    "lastTimestamp = getTimestamp(lastDate)\n"
   ]
  },
  {
   "cell_type": "code",
   "execution_count": 9,
   "metadata": {},
   "outputs": [
    {
     "data": {
      "text/html": [
       "<div>\n",
       "<style scoped>\n",
       "    .dataframe tbody tr th:only-of-type {\n",
       "        vertical-align: middle;\n",
       "    }\n",
       "\n",
       "    .dataframe tbody tr th {\n",
       "        vertical-align: top;\n",
       "    }\n",
       "\n",
       "    .dataframe thead th {\n",
       "        text-align: right;\n",
       "    }\n",
       "</style>\n",
       "<table border=\"1\" class=\"dataframe\">\n",
       "  <thead>\n",
       "    <tr style=\"text-align: right;\">\n",
       "      <th></th>\n",
       "      <th>timestamp</th>\n",
       "      <th>amount</th>\n",
       "      <th>price</th>\n",
       "      <th>type</th>\n",
       "      <th>value [CLP]</th>\n",
       "    </tr>\n",
       "  </thead>\n",
       "  <tbody>\n",
       "    <tr>\n",
       "      <th>0</th>\n",
       "      <td>1709297950674</td>\n",
       "      <td>0.00659779</td>\n",
       "      <td>59898839.0</td>\n",
       "      <td>buy</td>\n",
       "      <td>395199.96</td>\n",
       "    </tr>\n",
       "    <tr>\n",
       "      <th>1</th>\n",
       "      <td>1709297889903</td>\n",
       "      <td>0.0032989</td>\n",
       "      <td>59898839.0</td>\n",
       "      <td>buy</td>\n",
       "      <td>197600.28</td>\n",
       "    </tr>\n",
       "    <tr>\n",
       "      <th>2</th>\n",
       "      <td>1709297864371</td>\n",
       "      <td>0.06597791</td>\n",
       "      <td>59898839.0</td>\n",
       "      <td>buy</td>\n",
       "      <td>3952000.21</td>\n",
       "    </tr>\n",
       "    <tr>\n",
       "      <th>3</th>\n",
       "      <td>1709297838946</td>\n",
       "      <td>0.00053423</td>\n",
       "      <td>59898830.0</td>\n",
       "      <td>sell</td>\n",
       "      <td>31999.75</td>\n",
       "    </tr>\n",
       "    <tr>\n",
       "      <th>4</th>\n",
       "      <td>1709297808562</td>\n",
       "      <td>0.00032494</td>\n",
       "      <td>59898839.0</td>\n",
       "      <td>buy</td>\n",
       "      <td>19463.53</td>\n",
       "    </tr>\n",
       "    <tr>\n",
       "      <th>...</th>\n",
       "      <td>...</td>\n",
       "      <td>...</td>\n",
       "      <td>...</td>\n",
       "      <td>...</td>\n",
       "      <td>...</td>\n",
       "    </tr>\n",
       "    <tr>\n",
       "      <th>56</th>\n",
       "      <td>1709294594593</td>\n",
       "      <td>0.00063604</td>\n",
       "      <td>59899274.0</td>\n",
       "      <td>buy</td>\n",
       "      <td>38098.33</td>\n",
       "    </tr>\n",
       "    <tr>\n",
       "      <th>57</th>\n",
       "      <td>1709294594593</td>\n",
       "      <td>0.00140932</td>\n",
       "      <td>59896659.0</td>\n",
       "      <td>buy</td>\n",
       "      <td>84413.56</td>\n",
       "    </tr>\n",
       "    <tr>\n",
       "      <th>58</th>\n",
       "      <td>1709294512574</td>\n",
       "      <td>0.00580258</td>\n",
       "      <td>59376890.0</td>\n",
       "      <td>sell</td>\n",
       "      <td>344539.15</td>\n",
       "    </tr>\n",
       "    <tr>\n",
       "      <th>59</th>\n",
       "      <td>1709294497334</td>\n",
       "      <td>0.00084208</td>\n",
       "      <td>59376890.0</td>\n",
       "      <td>sell</td>\n",
       "      <td>50000.09</td>\n",
       "    </tr>\n",
       "    <tr>\n",
       "      <th>60</th>\n",
       "      <td>1709294441052</td>\n",
       "      <td>8.247e-05</td>\n",
       "      <td>59899139.0</td>\n",
       "      <td>buy</td>\n",
       "      <td>4939.88</td>\n",
       "    </tr>\n",
       "  </tbody>\n",
       "</table>\n",
       "<p>61 rows × 5 columns</p>\n",
       "</div>"
      ],
      "text/plain": [
       "        timestamp      amount       price  type  value [CLP]\n",
       "0   1709297950674  0.00659779  59898839.0   buy    395199.96\n",
       "1   1709297889903   0.0032989  59898839.0   buy    197600.28\n",
       "2   1709297864371  0.06597791  59898839.0   buy   3952000.21\n",
       "3   1709297838946  0.00053423  59898830.0  sell     31999.75\n",
       "4   1709297808562  0.00032494  59898839.0   buy     19463.53\n",
       "..            ...         ...         ...   ...          ...\n",
       "56  1709294594593  0.00063604  59899274.0   buy     38098.33\n",
       "57  1709294594593  0.00140932  59896659.0   buy     84413.56\n",
       "58  1709294512574  0.00580258  59376890.0  sell    344539.15\n",
       "59  1709294497334  0.00084208  59376890.0  sell     50000.09\n",
       "60  1709294441052   8.247e-05  59899139.0   buy      4939.88\n",
       "\n",
       "[61 rows x 5 columns]"
      ]
     },
     "execution_count": 9,
     "metadata": {},
     "output_type": "execute_result"
    }
   ],
   "source": [
    "transactions = getTransactions(marketId,lastTimestamp,firstTimestamp)\n",
    "df = createDataFrame(transactions)\n",
    "df"
   ]
  },
  {
   "cell_type": "code",
   "execution_count": 6,
   "metadata": {},
   "outputs": [
    {
     "name": "stdout",
     "output_type": "stream",
     "text": [
      "totalTraded at black buda: 35583121.0\n"
     ]
    }
   ],
   "source": [
    "totalTraded = calculateTotalValueTraded(df)\n",
    "print(\"totalTraded at black buda:\",totalTraded)"
   ]
  },
  {
   "cell_type": "markdown",
   "metadata": {},
   "source": [
    "# Año pasado"
   ]
  },
  {
   "cell_type": "code",
   "execution_count": 7,
   "metadata": {},
   "outputs": [],
   "source": [
    "firstDate2023 = datetime(2023,3,1,12,0,0,0,timezone.utc)\n",
    "lastDate2023 = datetime(2023,3,1,13,0,0,0,timezone.utc)\n",
    "firstTimestamp2023 = getTimestamp(firstDate2023)\n",
    "lastTimestamp2023 = getTimestamp(lastDate2023)\n",
    "\n",
    "transactions2023 = getTransactions(marketId,lastTimestamp2023,firstTimestamp2023)\n",
    "df2023 = createDataFrame(transactions2023)"
   ]
  },
  {
   "cell_type": "code",
   "execution_count": 8,
   "metadata": {},
   "outputs": [
    {
     "name": "stdout",
     "output_type": "stream",
     "text": [
      "totalTraded at black buda 2023: 12872732.47 \n",
      "\n",
      "percentageIncreaseByBTC: -9.35 % \n",
      "\n",
      "moneyLost: 284664.97 \n",
      "\n"
     ]
    }
   ],
   "source": [
    "#Total tradeado en 2023 misma fecha y hora\n",
    "totalTraded2023 = calculateTotalValueTraded(df2023)\n",
    "print(\"totalTraded at black buda 2023:\",totalTraded2023,\"\\n\")\n",
    "\n",
    "#Cuánto creció porcentualmente entre 2023 y 2024? [BTC]\n",
    "totalBTCTraded = calculateTotalBTCTraded(df)\n",
    "totalBTCTraded2023 = calculateTotalBTCTraded(df2023)\n",
    "percentageIncreaseByBTC = calculatePercentageIncrease(totalBTCTraded2023,totalBTCTraded)\n",
    "print(\"percentageIncreaseByBTC:\",percentageIncreaseByBTC,\"%\",\"\\n\")\n",
    "\n",
    "#Cuanto dinero se dejó de ganar por el evento\n",
    "moneyLost = calculateFeeAmount(totalTraded,fee)\n",
    "print(\"moneyLost:\",moneyLost,\"\\n\")"
   ]
  }
 ],
 "metadata": {
  "kernelspec": {
   "display_name": "env",
   "language": "python",
   "name": "python3"
  },
  "language_info": {
   "codemirror_mode": {
    "name": "ipython",
    "version": 3
   },
   "file_extension": ".py",
   "mimetype": "text/x-python",
   "name": "python",
   "nbconvert_exporter": "python",
   "pygments_lexer": "ipython3",
   "version": "3.10.0"
  }
 },
 "nbformat": 4,
 "nbformat_minor": 2
}
